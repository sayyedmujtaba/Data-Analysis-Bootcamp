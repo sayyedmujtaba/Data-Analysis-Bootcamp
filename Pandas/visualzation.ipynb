{
 "cells": [
  {
   "cell_type": "code",
   "execution_count": null,
   "id": "cf7450a4",
   "metadata": {},
   "outputs": [],
   "source": [
    "import pandas as pd"
   ]
  },
  {
   "cell_type": "code",
   "execution_count": null,
   "id": "808f113f",
   "metadata": {},
   "outputs": [],
   "source": [
    "df = pd.read_excel(\"Customer Call List.xlsx\")\n",
    "df"
   ]
  },
  {
   "cell_type": "code",
   "execution_count": null,
   "id": "cf383ff7",
   "metadata": {},
   "outputs": [],
   "source": [
    "df = df.drop_duplicates() # Drop duplicate rows\n",
    "df"
   ]
  },
  {
   "cell_type": "code",
   "execution_count": null,
   "id": "583cfd12",
   "metadata": {},
   "outputs": [],
   "source": [
    "df.shape"
   ]
  },
  {
   "cell_type": "code",
   "execution_count": null,
   "id": "8f851a62",
   "metadata": {},
   "outputs": [],
   "source": [
    "df = df.drop(columns=\"Not_Useful_Column\") # Drop a specific column\n",
    "df"
   ]
  },
  {
   "cell_type": "code",
   "execution_count": null,
   "id": "1a4ff770",
   "metadata": {},
   "outputs": [],
   "source": [
    "# so now we wnat to modify the column \"Last_Name\"\n",
    "# we want to apply change only to this column not to the whole table\n",
    "# so we will not assign it to var df but instead we will assign it to the var df[\"Last_Name\"]"
   ]
  },
  {
   "cell_type": "code",
   "execution_count": null,
   "id": "65986ba3",
   "metadata": {},
   "outputs": [],
   "source": [
    "# df[\"Last_Name\"] = df[\"Last_Name\"].str.lstrip(\"/\")\n",
    "# df[\"Last_Name\"] = df[\"Last_Name\"].str.lstrip(\"...\")\n",
    "# # we are using lstrip two time because we cant use list there .lstrip([\"/\",\"...\"])\n",
    "# df[\"Last_Name\"] = df[\"Last_Name\"].str.rstrip(\"_\")\n",
    "# df # now we can see that the changes are only applied to the column \"Last_Name\""
   ]
  },
  {
   "cell_type": "code",
   "execution_count": null,
   "id": "976fe77e",
   "metadata": {},
   "outputs": [],
   "source": [
    "# but instead of using lstrip and rstrip multiple times we can use normal strip all at once\n",
    "df[\"Last_Name\"] = df[\"Last_Name\"].str.strip(\"/._\")\n",
    "df # now we can see that the changes are only applied to the column \"Last_Name\""
   ]
  },
  {
   "cell_type": "code",
   "execution_count": null,
   "id": "129684c2",
   "metadata": {},
   "outputs": [],
   "source": [
    "df[\"Phone_Number\"] = df[\"Phone_Number\"].str.replace('[^a-zA-Z0-9]','', regex=True) # this will remove all the special characters from the phone number column\n",
    "df[\"Phone_Number\"] "
   ]
  },
  {
   "cell_type": "code",
   "execution_count": null,
   "id": "7ac31ca5",
   "metadata": {},
   "outputs": [],
   "source": [
    "df[\"Phone_Number\"] = df[\"Phone_Number\"].apply(lambda x: str(x))\n",
    "df[\"Phone_Number\"] = df[\"Phone_Number\"].apply(lambda x: x[0:3] + '-' + x[3:6] + '-' + x[6:10])\n",
    "df[\"Phone_Number\"]"
   ]
  },
  {
   "cell_type": "code",
   "execution_count": null,
   "id": "95e32de1",
   "metadata": {},
   "outputs": [],
   "source": [
    "df[\"Phone_Number\"] = df[\"Phone_Number\"].str.replace('nan--','')\n",
    "df[\"Phone_Number\"] = df[\"Phone_Number\"].str.replace('Na--','')\n",
    "df"
   ]
  },
  {
   "cell_type": "code",
   "execution_count": null,
   "id": "1ac96274",
   "metadata": {},
   "outputs": [],
   "source": [
    "df[[\"Street_Address\", \"State\", \"Zip_Code\"]] = df[\"Address\"].str.split(',',n=2, expand=True)\n",
    "df"
   ]
  },
  {
   "cell_type": "code",
   "execution_count": null,
   "id": "d6e4e128",
   "metadata": {},
   "outputs": [],
   "source": [
    "df[\"Do_Not_Contact\"] = df[\"Do_Not_Contact\"].str.replace('Yes','Y')\n",
    "df[\"Do_Not_Contact\"] = df[\"Do_Not_Contact\"].str.replace('No','N')\n",
    "df"
   ]
  },
  {
   "cell_type": "code",
   "execution_count": null,
   "id": "b2e276a2",
   "metadata": {},
   "outputs": [],
   "source": [
    "df[\"Paying Customer\"] = df[\"Paying Customer\"].str.replace('Yes','Y')\n",
    "df[\"Paying Customer\"] = df[\"Paying Customer\"].str.replace('No','N')\n",
    "df"
   ]
  },
  {
   "cell_type": "code",
   "execution_count": null,
   "id": "ab12a07b",
   "metadata": {},
   "outputs": [],
   "source": [
    "# Final clean dataframe with only relevant columns\n",
    "df[[\"CustomerID\", \"Do_Not_Contact\", \"Paying Customer\"]]"
   ]
  },
  {
   "cell_type": "code",
   "execution_count": null,
   "id": "731d7e7e",
   "metadata": {},
   "outputs": [],
   "source": [
    "# df = df.replace(\"NaN\", \"\")\n",
    "# df = df.replace(\"N/a\", \"\")\n",
    "# the avbove 2 are not working because these are not string but NaN values\n",
    "\n",
    "df = df.fillna(\"\") # this will replace all the NaN values with empty string\n",
    "df"
   ]
  },
  {
   "cell_type": "code",
   "execution_count": null,
   "id": "c6fec8c2",
   "metadata": {},
   "outputs": [],
   "source": [
    "# now we are going to drop the columns which Do_Not_Contact is Y\n",
    "df = df[df[\"Do_Not_Contact\"] != \"Y\"]\n",
    "df"
   ]
  },
  {
   "cell_type": "code",
   "execution_count": null,
   "id": "be9e13cc",
   "metadata": {},
   "outputs": [],
   "source": [
    "df.shape"
   ]
  },
  {
   "cell_type": "code",
   "execution_count": null,
   "id": "a28fe418",
   "metadata": {},
   "outputs": [],
   "source": [
    "# the shape is reduced to (16, 10) while initially it was 21 rows"
   ]
  },
  {
   "cell_type": "code",
   "execution_count": null,
   "id": "f8f59e65",
   "metadata": {},
   "outputs": [],
   "source": [
    "# now lets drp all the rows where Phone_Number is empty\n",
    "df = df[df[\"Phone_Number\"] != \"\"]\n",
    "df"
   ]
  },
  {
   "cell_type": "code",
   "execution_count": null,
   "id": "ad136a53",
   "metadata": {},
   "outputs": [],
   "source": [
    "df.shape"
   ]
  },
  {
   "cell_type": "code",
   "execution_count": null,
   "id": "3bc1084b",
   "metadata": {},
   "outputs": [],
   "source": [
    "# now we can see that the shape is even more reduced"
   ]
  },
  {
   "cell_type": "code",
   "execution_count": null,
   "id": "a4a39790",
   "metadata": {},
   "outputs": [],
   "source": [
    "df = df.reset_index(drop=True)\n",
    "df"
   ]
  },
  {
   "cell_type": "code",
   "execution_count": null,
   "id": "28730bd6",
   "metadata": {},
   "outputs": [],
   "source": [
    "saved = df.to_excel(\"Cleaned_Customer_Call_List.xlsx\", index=False)"
   ]
  },
  {
   "cell_type": "code",
   "execution_count": null,
   "id": "36352cfe",
   "metadata": {},
   "outputs": [],
   "source": []
  }
 ],
 "metadata": {
  "kernelspec": {
   "display_name": "Python 3",
   "language": "python",
   "name": "python3"
  },
  "language_info": {
   "codemirror_mode": {
    "name": "ipython",
    "version": 3
   },
   "file_extension": ".py",
   "mimetype": "text/x-python",
   "name": "python",
   "nbconvert_exporter": "python",
   "pygments_lexer": "ipython3",
   "version": "3.12.6"
  }
 },
 "nbformat": 4,
 "nbformat_minor": 5
}
