{
 "cells": [
  {
   "cell_type": "code",
   "execution_count": null,
   "id": "c35f4683",
   "metadata": {},
   "outputs": [],
   "source": [
    "import pandas as pd"
   ]
  },
  {
   "cell_type": "code",
   "execution_count": null,
   "id": "6c47a8be",
   "metadata": {},
   "outputs": [],
   "source": [
    "df = pd.read_csv(\"world_population.csv\")\n",
    "# df\n",
    "\n",
    "# we can set index in multiple ways like set_index() or during read_csv() using index_col parameter\n",
    "# or directly via set_index() method of dataframe\n",
    "# here we are using set_index() method of dataframe\n",
    "\n",
    "\n",
    "df.set_index(\"Country\", inplace = True) # while using inplace = True, it modifies the original dataframe and no need to store in another variable\n",
    "df"
   ]
  },
  {
   "cell_type": "code",
   "execution_count": null,
   "id": "d1a340e2",
   "metadata": {},
   "outputs": [],
   "source": [
    "# or if we are not using inplace = True, we need to store in another variable\n",
    "\n",
    "# df = pd.read_csv(\"world_population.csv\")\n",
    "# df2 = df.set_index(\"Country\")\n",
    "# df2"
   ]
  },
  {
   "cell_type": "code",
   "execution_count": null,
   "id": "a300682c",
   "metadata": {},
   "outputs": [],
   "source": [
    "# we can name the index column as\n",
    "# df.index.name = \"ID\""
   ]
  },
  {
   "cell_type": "markdown",
   "id": "c3198b07",
   "metadata": {},
   "source": [
    "# Indexing via loc and iloc\n",
    "\n",
    "loc: string index ............   iloc: integer location"
   ]
  },
  {
   "cell_type": "code",
   "execution_count": null,
   "id": "ae1a35cd",
   "metadata": {},
   "outputs": [],
   "source": [
    "df.loc[\"Pakistan\"]  # loc is used for string index"
   ]
  },
  {
   "cell_type": "code",
   "execution_count": null,
   "id": "b451554f",
   "metadata": {},
   "outputs": [],
   "source": [
    "df.iloc[2]  # iloc is used for integer location"
   ]
  },
  {
   "cell_type": "code",
   "execution_count": null,
   "id": "4c3e3129",
   "metadata": {},
   "outputs": [],
   "source": [
    "df.iloc[213]  # iloc is used for integer location"
   ]
  },
  {
   "cell_type": "code",
   "execution_count": null,
   "id": "460b58b0",
   "metadata": {},
   "outputs": [],
   "source": [
    " # if we look at the outputs we will not see the name of country in the output, because it is now index of the dataframe"
   ]
  },
  {
   "cell_type": "code",
   "execution_count": null,
   "id": "bf91f699",
   "metadata": {},
   "outputs": [],
   "source": [
    "# --- RESETING INDEX ---\n",
    "df.reset_index(inplace = True)\n",
    "# df"
   ]
  },
  {
   "cell_type": "code",
   "execution_count": null,
   "id": "d36cf680",
   "metadata": {},
   "outputs": [],
   "source": [
    "# --- MULTIPLE INDEXING ---\n",
    "# lets index by continent and country both\n",
    "df.set_index([\"Continent\", \"Country\"], inplace = True)\n",
    "df.sort_index()\n"
   ]
  },
  {
   "cell_type": "code",
   "execution_count": null,
   "id": "c3c75b0a",
   "metadata": {},
   "outputs": [],
   "source": []
  }
 ],
 "metadata": {
  "kernelspec": {
   "display_name": "Python 3",
   "language": "python",
   "name": "python3"
  },
  "language_info": {
   "codemirror_mode": {
    "name": "ipython",
    "version": 3
   },
   "file_extension": ".py",
   "mimetype": "text/x-python",
   "name": "python",
   "nbconvert_exporter": "python",
   "pygments_lexer": "ipython3",
   "version": "3.12.6"
  }
 },
 "nbformat": 4,
 "nbformat_minor": 5
}
