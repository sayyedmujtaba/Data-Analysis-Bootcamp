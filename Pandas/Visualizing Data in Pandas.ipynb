{
 "cells": [
  {
   "cell_type": "markdown",
   "id": "e3731fb3",
   "metadata": {},
   "source": [
    "# Pandas Visualization"
   ]
  },
  {
   "cell_type": "code",
   "execution_count": null,
   "id": "45b2563d",
   "metadata": {},
   "outputs": [],
   "source": [
    "import pandas as pd\n",
    "import numpy as np\n",
    "import matplotlib.pyplot as plt"
   ]
  },
  {
   "cell_type": "code",
   "execution_count": null,
   "id": "81dcc988",
   "metadata": {},
   "outputs": [],
   "source": [
    "df = pd.read_csv(\"Ice Cream Ratings.csv\")\n",
    "df = df.set_index('Date')\n",
    "df"
   ]
  },
  {
   "cell_type": "code",
   "execution_count": null,
   "id": "f19ba29a",
   "metadata": {},
   "outputs": [],
   "source": [
    "print(plt.style.available) # Lists all available styles\n",
    "plt.style.use('classic') # Sets the style to classic"
   ]
  },
  {
   "cell_type": "code",
   "execution_count": null,
   "id": "37d91707",
   "metadata": {},
   "outputs": [],
   "source": [
    "df.plot(kind = 'line', title = 'Ice Cream Ratings', xlabel = 'Daily Ratings', ylabel = 'Scores')"
   ]
  },
  {
   "cell_type": "code",
   "execution_count": null,
   "id": "a663ae19",
   "metadata": {},
   "outputs": [],
   "source": [
    "df.plot.barh(stacked = True)"
   ]
  },
  {
   "cell_type": "code",
   "execution_count": null,
   "id": "d264db96",
   "metadata": {},
   "outputs": [],
   "source": [
    "df.plot.scatter(x = 'Texture Rating', y = 'Overall Rating', s = 500, c = 'Yellow')"
   ]
  },
  {
   "cell_type": "code",
   "execution_count": null,
   "id": "e1107473",
   "metadata": {},
   "outputs": [],
   "source": [
    "df.plot.hist(bins = 10)"
   ]
  },
  {
   "cell_type": "code",
   "execution_count": null,
   "id": "e8ec7f3c",
   "metadata": {},
   "outputs": [],
   "source": [
    "df.boxplot()"
   ]
  },
  {
   "cell_type": "code",
   "execution_count": null,
   "id": "d3575d8e",
   "metadata": {},
   "outputs": [],
   "source": [
    "df.plot.area(figsize = (10,5))"
   ]
  },
  {
   "cell_type": "code",
   "execution_count": null,
   "id": "533280c7",
   "metadata": {},
   "outputs": [],
   "source": [
    "df.plot.pie(y='Flavor Rating',figsize=(10,10))"
   ]
  }
 ],
 "metadata": {
  "kernelspec": {
   "display_name": "Python 3",
   "language": "python",
   "name": "python3"
  },
  "language_info": {
   "codemirror_mode": {
    "name": "ipython",
    "version": 3
   },
   "file_extension": ".py",
   "mimetype": "text/x-python",
   "name": "python",
   "nbconvert_exporter": "python",
   "pygments_lexer": "ipython3",
   "version": "3.12.6"
  }
 },
 "nbformat": 4,
 "nbformat_minor": 5
}
