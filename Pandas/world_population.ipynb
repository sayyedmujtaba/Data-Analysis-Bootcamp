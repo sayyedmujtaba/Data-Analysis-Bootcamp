{
 "cells": [
  {
   "cell_type": "code",
   "execution_count": null,
   "id": "5c77df2f",
   "metadata": {},
   "outputs": [],
   "source": [
    "import pandas as pd"
   ]
  },
  {
   "cell_type": "code",
   "execution_count": null,
   "id": "1de319cd",
   "metadata": {},
   "outputs": [],
   "source": [
    "df = pd.read_csv('world_population.csv')\n",
    "print(df.head())"
   ]
  },
  {
   "cell_type": "code",
   "execution_count": null,
   "id": "18ae1ede",
   "metadata": {},
   "outputs": [],
   "source": [
    "df[df[\"Rank\"] < 10] # Top 10 countries by population"
   ]
  },
  {
   "cell_type": "code",
   "execution_count": null,
   "id": "a447b30a",
   "metadata": {},
   "outputs": [],
   "source": [
    "specific_countries = [\"China\", \"Pakistan\", \"India\" ] \n",
    "df[df[\"Country\"].isin(specific_countries)] # Filter for specific countries in the above top 10 ranks"
   ]
  },
  {
   "cell_type": "code",
   "execution_count": null,
   "id": "9d5582c7",
   "metadata": {},
   "outputs": [],
   "source": [
    "df[df[\"Country\"].str.contains(\"United\")] # Filter countries containing 'United'"
   ]
  },
  {
   "cell_type": "code",
   "execution_count": null,
   "id": "39b5847a",
   "metadata": {},
   "outputs": [],
   "source": [
    "df2 = df.set_index(\"Country\") # load the country column as index, (.set_index loads a specific column as index)\n",
    "df2"
   ]
  },
  {
   "cell_type": "code",
   "execution_count": null,
   "id": "054c1ad0",
   "metadata": {},
   "outputs": [],
   "source": [
    "df2.filter(items = [\"Continent\", \"CCA3\", \"Rank\"], axis = 1) # Filter specific columns using .filter() method"
   ]
  },
  {
   "cell_type": "code",
   "execution_count": null,
   "id": "365ecb63",
   "metadata": {},
   "outputs": [],
   "source": [
    "df2.filter(items=[\"Pakistan\"], axis=0) # Filter specific rows using .filter() method"
   ]
  },
  {
   "cell_type": "code",
   "execution_count": null,
   "id": "14419f75",
   "metadata": {},
   "outputs": [],
   "source": [
    "df2.filter(like = \"aki\", axis = 0) # Filter rows containing 'aki' using .filter() method"
   ]
  },
  {
   "cell_type": "code",
   "execution_count": null,
   "id": "f40a3b94",
   "metadata": {},
   "outputs": [],
   "source": [
    "df2.loc[\"Pakistan\"] # Accessing just 1 row of data using .loc with the index set to 'Country'\n",
    "df2.loc[[\"Pakistan\", \"China\", \"India\"]] # Accessing row data using .loc with the index set to 'Country'"
   ]
  },
  {
   "cell_type": "code",
   "execution_count": null,
   "id": "7ea4b25a",
   "metadata": {},
   "outputs": [],
   "source": [
    "df2.iloc[150:157]"
   ]
  },
  {
   "cell_type": "code",
   "execution_count": null,
   "id": "3c551070",
   "metadata": {},
   "outputs": [],
   "source": [
    "df[df[\"Rank\"] <= 10].sort_values(by = \"Rank\", ascending = True) # Sort the top 10 countries by rank in Ascending order"
   ]
  },
  {
   "cell_type": "code",
   "execution_count": null,
   "id": "dabeabb9",
   "metadata": {},
   "outputs": [],
   "source": [
    "# We can also sort by multiple columns but the order of sorting is important\n",
    "df[df[\"Rank\"] <= 10].sort_values(by = [\"Rank\", \"Country\"], ascending = True)\n",
    "# here we will see that the it is sorted by rank not countries because in the list rank is first"
   ]
  },
  {
   "cell_type": "code",
   "execution_count": null,
   "id": "08db0248",
   "metadata": {},
   "outputs": [],
   "source": [
    "df[df[\"Rank\"] <= 10].sort_values(by = [\"Country\", \"Rank\"], ascending = True)\n",
    "# here it is ranked by countries first because it is first in the list"
   ]
  },
  {
   "cell_type": "code",
   "execution_count": null,
   "id": "840f06c1",
   "metadata": {},
   "outputs": [],
   "source": []
  }
 ],
 "metadata": {
  "kernelspec": {
   "display_name": "Python 3",
   "language": "python",
   "name": "python3"
  },
  "language_info": {
   "codemirror_mode": {
    "name": "ipython",
    "version": 3
   },
   "file_extension": ".py",
   "mimetype": "text/x-python",
   "name": "python",
   "nbconvert_exporter": "python",
   "pygments_lexer": "ipython3",
   "version": "3.12.6"
  }
 },
 "nbformat": 4,
 "nbformat_minor": 5
}
