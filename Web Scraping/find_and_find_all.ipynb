{
  "cells": [
    {
      "cell_type": "markdown",
      "metadata": {
        "id": "bwMxKnjbjeYN"
      },
      "source": [
        "#find() and find_all()\n",
        "\n",
        "find() → returns the first matching element.\n",
        "\n",
        "find_all() → returns all matching elements (as a list)."
      ]
    },
    {
      "cell_type": "code",
      "execution_count": 1,
      "metadata": {
        "id": "PbbM-C1njHBh"
      },
      "outputs": [],
      "source": [
        "from bs4 import BeautifulSoup\n",
        "import requests"
      ]
    },
    {
      "cell_type": "code",
      "execution_count": 2,
      "metadata": {
        "id": "L3MhfdL6jsu-"
      },
      "outputs": [],
      "source": [
        "url = \"https://www.scrapethissite.com\""
      ]
    },
    {
      "cell_type": "code",
      "execution_count": 3,
      "metadata": {
        "id": "zdSjI-g6j20F"
      },
      "outputs": [],
      "source": [
        "page = requests.get(url)"
      ]
    },
    {
      "cell_type": "code",
      "execution_count": 4,
      "metadata": {
        "id": "vcWuN91wj5fu"
      },
      "outputs": [],
      "source": [
        "soup = (BeautifulSoup(page.text, \"html.parser\"))"
      ]
    },
    {
      "cell_type": "code",
      "execution_count": 5,
      "metadata": {
        "id": "ud-69IuWj804"
      },
      "outputs": [],
      "source": [
        "# print(soup.prettify())"
      ]
    },
    {
      "cell_type": "markdown",
      "metadata": {
        "id": "JYPjZc8WkaWF"
      },
      "source": [
        "finding the first h1 element"
      ]
    },
    {
      "cell_type": "code",
      "execution_count": 6,
      "metadata": {
        "colab": {
          "base_uri": "https://localhost:8080/"
        },
        "id": "ojWkVF06kCxy",
        "outputId": "ecf1cf78-bd98-432d-98f1-4a858b4e1a70"
      },
      "outputs": [],
      "source": [
        "soup.find(\"h1\")"
      ]
    },
    {
      "cell_type": "markdown",
      "metadata": {
        "id": "KGgPN5Z0khNN"
      },
      "source": [
        "finding the first li element"
      ]
    },
    {
      "cell_type": "code",
      "execution_count": 7,
      "metadata": {
        "colab": {
          "base_uri": "https://localhost:8080/"
        },
        "id": "OgQHTt9xkR1o",
        "outputId": "8a7a71db-148a-4ce9-a894-57f050237425"
      },
      "outputs": [],
      "source": [
        "soup.find(\"li\")"
      ]
    },
    {
      "cell_type": "markdown",
      "metadata": {
        "id": "LQqG2LhTkjMV"
      },
      "source": [
        "finding all li elements"
      ]
    },
    {
      "cell_type": "code",
      "execution_count": 8,
      "metadata": {
        "colab": {
          "base_uri": "https://localhost:8080/"
        },
        "id": "d9t0tV8pkF7l",
        "outputId": "42b0d74a-5995-4f28-d87c-8169ee2dbaa3"
      },
      "outputs": [],
      "source": [
        "soup.find_all(\"li\")"
      ]
    },
    {
      "cell_type": "markdown",
      "metadata": {
        "id": "nMpTDLOglln3"
      },
      "source": [
        "suppose we want to find a ta with a specific class or id"
      ]
    },
    {
      "cell_type": "code",
      "execution_count": null,
      "metadata": {
        "colab": {
          "base_uri": "https://localhost:8080/"
        },
        "id": "bzppAoQDmB-H",
        "outputId": "202f4bd7-610e-4725-a847-82be970a523c"
      },
      "outputs": [],
      "source": [
        "soup.find_all(\"div\")"
      ]
    },
    {
      "cell_type": "code",
      "execution_count": 16,
      "metadata": {
        "colab": {
          "base_uri": "https://localhost:8080/"
        },
        "id": "MfvLr8ZqkJl2",
        "outputId": "3edf8f92-3e71-4e01-e91b-cfae8c8a9944"
      },
      "outputs": [],
      "source": [
        "soup.find_all(\"div\", class_=\"col-md-12\")"
      ]
    },
    {
      "cell_type": "code",
      "execution_count": 18,
      "metadata": {
        "colab": {
          "base_uri": "https://localhost:8080/"
        },
        "id": "w2orlULumO4t",
        "outputId": "8dd0d428-1d13-4c35-dd3e-5b43afa7fb41"
      },
      "outputs": [],
      "source": [
        "soup.find_all(\"li\", class_=\"pull-right\")"
      ]
    },
    {
      "cell_type": "code",
      "execution_count": 22,
      "metadata": {
        "colab": {
          "base_uri": "https://localhost:8080/",
          "height": 315
        },
        "id": "9iVnpM0unq5R",
        "outputId": "4da7fb7c-7d67-4adb-dfe3-aa4aa424cdbc"
      },
      "outputs": [],
      "source": [
        "soup.find_all(\"p\", class_ = \"lead\").text\n",
        "# this will give an error because find_all() dosent have a text attribute"
      ]
    },
    {
      "cell_type": "code",
      "execution_count": 23,
      "metadata": {
        "colab": {
          "base_uri": "https://localhost:8080/",
          "height": 35
        },
        "id": "1CVyBIkZmphn",
        "outputId": "f49ce8bd-c988-44a8-a954-4f226482636f"
      },
      "outputs": [],
      "source": [
        "soup.find(\"p\", class_ = \"lead\").text.strip()"
      ]
    },
    {
      "cell_type": "code",
      "execution_count": null,
      "metadata": {
        "id": "jOATaxjMnmv0"
      },
      "outputs": [],
      "source": []
    }
  ],
  "metadata": {
    "colab": {
      "provenance": []
    },
    "kernelspec": {
      "display_name": "Python 3",
      "name": "python3"
    },
    "language_info": {
      "codemirror_mode": {
        "name": "ipython",
        "version": 3
      },
      "file_extension": ".py",
      "mimetype": "text/x-python",
      "name": "python",
      "nbconvert_exporter": "python",
      "pygments_lexer": "ipython3",
      "version": "3.13.7"
    }
  },
  "nbformat": 4,
  "nbformat_minor": 0
}
