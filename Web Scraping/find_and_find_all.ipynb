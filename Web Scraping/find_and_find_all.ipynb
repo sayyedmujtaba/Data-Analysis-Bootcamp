{
  "nbformat": 4,
  "nbformat_minor": 0,
  "metadata": {
    "colab": {
      "provenance": []
    },
    "kernelspec": {
      "name": "python3",
      "display_name": "Python 3"
    },
    "language_info": {
      "name": "python"
    }
  },
  "cells": [
    {
      "cell_type": "markdown",
      "source": [
        "# find() and find_all()\n",
        "\n",
        "find() → returns the first matching element.\n",
        "\n",
        "find_all() → returns all matching elements (as a list)."
      ],
      "metadata": {
        "id": "bwMxKnjbjeYN"
      }
    },
    {
      "cell_type": "code",
      "execution_count": 2,
      "metadata": {
        "id": "PbbM-C1njHBh"
      },
      "outputs": [],
      "source": [
        "from bs4 import BeautifulSoup\n",
        "import requests"
      ]
    },
    {
      "cell_type": "code",
      "source": [
        "url = \"https://www.scrapethissite.com\""
      ],
      "metadata": {
        "id": "L3MhfdL6jsu-"
      },
      "execution_count": 3,
      "outputs": []
    },
    {
      "cell_type": "code",
      "source": [
        "page = requests.get(url)"
      ],
      "metadata": {
        "id": "zdSjI-g6j20F"
      },
      "execution_count": 4,
      "outputs": []
    },
    {
      "cell_type": "code",
      "source": [
        "soup = (BeautifulSoup(page.text, \"html.parser\"))"
      ],
      "metadata": {
        "id": "vcWuN91wj5fu"
      },
      "execution_count": 5,
      "outputs": []
    },
    {
      "cell_type": "code",
      "source": [
        "# print(soup.prettify())"
      ],
      "metadata": {
        "id": "ud-69IuWj804"
      },
      "execution_count": 6,
      "outputs": []
    },
    {
      "cell_type": "markdown",
      "source": [
        "finding the first h1 element"
      ],
      "metadata": {
        "id": "JYPjZc8WkaWF"
      }
    },
    {
      "cell_type": "code",
      "source": [
        "soup.find(\"h1\")"
      ],
      "metadata": {
        "colab": {
          "base_uri": "https://localhost:8080/"
        },
        "id": "ojWkVF06kCxy",
        "outputId": "ecf1cf78-bd98-432d-98f1-4a858b4e1a70"
      },
      "execution_count": 11,
      "outputs": [
        {
          "output_type": "execute_result",
          "data": {
            "text/plain": [
              "<h1>\n",
              "                            Scrape This Site\n",
              "                        </h1>"
            ]
          },
          "metadata": {},
          "execution_count": 11
        }
      ]
    },
    {
      "cell_type": "markdown",
      "source": [
        "finding the first li element"
      ],
      "metadata": {
        "id": "KGgPN5Z0khNN"
      }
    },
    {
      "cell_type": "code",
      "source": [
        "soup.find(\"li\")"
      ],
      "metadata": {
        "colab": {
          "base_uri": "https://localhost:8080/"
        },
        "id": "OgQHTt9xkR1o",
        "outputId": "8a7a71db-148a-4ce9-a894-57f050237425"
      },
      "execution_count": 12,
      "outputs": [
        {
          "output_type": "execute_result",
          "data": {
            "text/plain": [
              "<li id=\"nav-homepage\">\n",
              "<a class=\"nav-link hidden-sm hidden-xs\" href=\"/\">\n",
              "<img id=\"nav-logo\" src=\"/static/images/scraper-icon.png\"/>\n",
              "                                Scrape This Site\n",
              "                            </a>\n",
              "</li>"
            ]
          },
          "metadata": {},
          "execution_count": 12
        }
      ]
    },
    {
      "cell_type": "markdown",
      "source": [
        "finding all li elements"
      ],
      "metadata": {
        "id": "LQqG2LhTkjMV"
      }
    },
    {
      "cell_type": "code",
      "source": [
        "soup.find_all(\"li\")"
      ],
      "metadata": {
        "colab": {
          "base_uri": "https://localhost:8080/"
        },
        "id": "d9t0tV8pkF7l",
        "outputId": "42b0d74a-5995-4f28-d87c-8169ee2dbaa3"
      },
      "execution_count": 10,
      "outputs": [
        {
          "output_type": "execute_result",
          "data": {
            "text/plain": [
              "[<li id=\"nav-homepage\">\n",
              " <a class=\"nav-link hidden-sm hidden-xs\" href=\"/\">\n",
              " <img id=\"nav-logo\" src=\"/static/images/scraper-icon.png\"/>\n",
              "                                 Scrape This Site\n",
              "                             </a>\n",
              " </li>,\n",
              " <li id=\"nav-sandbox\">\n",
              " <a class=\"nav-link\" href=\"/pages/\">\n",
              " <i class=\"glyphicon glyphicon-console hidden-sm hidden-xs\"></i>\n",
              "                                 Sandbox\n",
              "                             </a>\n",
              " </li>,\n",
              " <li id=\"nav-lessons\">\n",
              " <a class=\"nav-link\" href=\"/lessons/\">\n",
              " <i class=\"glyphicon glyphicon-education hidden-sm hidden-xs\"></i>\n",
              "                                 Lessons\n",
              "                             </a>\n",
              " </li>,\n",
              " <li id=\"nav-faq\">\n",
              " <a class=\"nav-link\" href=\"/faq/\">\n",
              " <i class=\"glyphicon glyphicon-flag hidden-sm hidden-xs\"></i>\n",
              "                                 FAQ\n",
              "                             </a>\n",
              " </li>,\n",
              " <li class=\"pull-right\" id=\"nav-login\">\n",
              " <a class=\"nav-link\" href=\"/login/\">\n",
              "                                 Login\n",
              "                             </a>\n",
              " </li>]"
            ]
          },
          "metadata": {},
          "execution_count": 10
        }
      ]
    },
    {
      "cell_type": "markdown",
      "source": [
        "suppose we want to find a ta with a specific class or id"
      ],
      "metadata": {
        "id": "nMpTDLOglln3"
      }
    },
    {
      "cell_type": "code",
      "source": [
        "soup.find_all(\"div\")"
      ],
      "metadata": {
        "colab": {
          "base_uri": "https://localhost:8080/"
        },
        "id": "bzppAoQDmB-H",
        "outputId": "202f4bd7-610e-4725-a847-82be970a523c"
      },
      "execution_count": 13,
      "outputs": [
        {
          "output_type": "execute_result",
          "data": {
            "text/plain": [
              "[<div class=\"container\">\n",
              " <div class=\"col-md-12\">\n",
              " <ul class=\"nav nav-tabs\">\n",
              " <li id=\"nav-homepage\">\n",
              " <a class=\"nav-link hidden-sm hidden-xs\" href=\"/\">\n",
              " <img id=\"nav-logo\" src=\"/static/images/scraper-icon.png\"/>\n",
              "                                 Scrape This Site\n",
              "                             </a>\n",
              " </li>\n",
              " <li id=\"nav-sandbox\">\n",
              " <a class=\"nav-link\" href=\"/pages/\">\n",
              " <i class=\"glyphicon glyphicon-console hidden-sm hidden-xs\"></i>\n",
              "                                 Sandbox\n",
              "                             </a>\n",
              " </li>\n",
              " <li id=\"nav-lessons\">\n",
              " <a class=\"nav-link\" href=\"/lessons/\">\n",
              " <i class=\"glyphicon glyphicon-education hidden-sm hidden-xs\"></i>\n",
              "                                 Lessons\n",
              "                             </a>\n",
              " </li>\n",
              " <li id=\"nav-faq\">\n",
              " <a class=\"nav-link\" href=\"/faq/\">\n",
              " <i class=\"glyphicon glyphicon-flag hidden-sm hidden-xs\"></i>\n",
              "                                 FAQ\n",
              "                             </a>\n",
              " </li>\n",
              " <li class=\"pull-right\" id=\"nav-login\">\n",
              " <a class=\"nav-link\" href=\"/login/\">\n",
              "                                 Login\n",
              "                             </a>\n",
              " </li>\n",
              " </ul>\n",
              " </div>\n",
              " </div>,\n",
              " <div class=\"col-md-12\">\n",
              " <ul class=\"nav nav-tabs\">\n",
              " <li id=\"nav-homepage\">\n",
              " <a class=\"nav-link hidden-sm hidden-xs\" href=\"/\">\n",
              " <img id=\"nav-logo\" src=\"/static/images/scraper-icon.png\"/>\n",
              "                                 Scrape This Site\n",
              "                             </a>\n",
              " </li>\n",
              " <li id=\"nav-sandbox\">\n",
              " <a class=\"nav-link\" href=\"/pages/\">\n",
              " <i class=\"glyphicon glyphicon-console hidden-sm hidden-xs\"></i>\n",
              "                                 Sandbox\n",
              "                             </a>\n",
              " </li>\n",
              " <li id=\"nav-lessons\">\n",
              " <a class=\"nav-link\" href=\"/lessons/\">\n",
              " <i class=\"glyphicon glyphicon-education hidden-sm hidden-xs\"></i>\n",
              "                                 Lessons\n",
              "                             </a>\n",
              " </li>\n",
              " <li id=\"nav-faq\">\n",
              " <a class=\"nav-link\" href=\"/faq/\">\n",
              " <i class=\"glyphicon glyphicon-flag hidden-sm hidden-xs\"></i>\n",
              "                                 FAQ\n",
              "                             </a>\n",
              " </li>\n",
              " <li class=\"pull-right\" id=\"nav-login\">\n",
              " <a class=\"nav-link\" href=\"/login/\">\n",
              "                                 Login\n",
              "                             </a>\n",
              " </li>\n",
              " </ul>\n",
              " </div>,\n",
              " <div id=\"homepage\">\n",
              " <section id=\"hero\">\n",
              " <div class=\"container\">\n",
              " <div class=\"row\">\n",
              " <div class=\"col-md-12 text-center\">\n",
              " <img id=\"townhall-logo\" src=\"/static/images/scraper-icon.png\">\n",
              " <h1>\n",
              "                             Scrape This Site\n",
              "                         </h1>\n",
              " <p class=\"lead\">\n",
              "                             The internet's best resource for learning <strong>web scraping</strong>.\n",
              "                         </p>\n",
              " <br/><br/><br/>\n",
              " <a class=\"btn btn-lg btn-default\" href=\"/pages/\"></a>Explore Sandbox\n",
              " <a class=\"btn btn-lg btn-primary\" href=\"/lessons/\"></a>\n",
              " <i class=\"glyphicon glyphicon-education\"></i>\n",
              "                             Begin Lessons →\n",
              "                         \n",
              " </img></div><!--.col-->\n",
              " </div><!--.row-->\n",
              " </div><!--.container-->\n",
              " </section>\n",
              " </div>,\n",
              " <div class=\"container\">\n",
              " <div class=\"row\">\n",
              " <div class=\"col-md-12 text-center\">\n",
              " <img id=\"townhall-logo\" src=\"/static/images/scraper-icon.png\">\n",
              " <h1>\n",
              "                             Scrape This Site\n",
              "                         </h1>\n",
              " <p class=\"lead\">\n",
              "                             The internet's best resource for learning <strong>web scraping</strong>.\n",
              "                         </p>\n",
              " <br/><br/><br/>\n",
              " <a class=\"btn btn-lg btn-default\" href=\"/pages/\"></a>Explore Sandbox\n",
              " <a class=\"btn btn-lg btn-primary\" href=\"/lessons/\"></a>\n",
              " <i class=\"glyphicon glyphicon-education\"></i>\n",
              "                             Begin Lessons →\n",
              "                         \n",
              " </img></div><!--.col-->\n",
              " </div><!--.row-->\n",
              " </div>,\n",
              " <div class=\"row\">\n",
              " <div class=\"col-md-12 text-center\">\n",
              " <img id=\"townhall-logo\" src=\"/static/images/scraper-icon.png\">\n",
              " <h1>\n",
              "                             Scrape This Site\n",
              "                         </h1>\n",
              " <p class=\"lead\">\n",
              "                             The internet's best resource for learning <strong>web scraping</strong>.\n",
              "                         </p>\n",
              " <br/><br/><br/>\n",
              " <a class=\"btn btn-lg btn-default\" href=\"/pages/\"></a>Explore Sandbox\n",
              " <a class=\"btn btn-lg btn-primary\" href=\"/lessons/\"></a>\n",
              " <i class=\"glyphicon glyphicon-education\"></i>\n",
              "                             Begin Lessons →\n",
              "                         \n",
              " </img></div><!--.col-->\n",
              " </div>,\n",
              " <div class=\"col-md-12 text-center\">\n",
              " <img id=\"townhall-logo\" src=\"/static/images/scraper-icon.png\">\n",
              " <h1>\n",
              "                             Scrape This Site\n",
              "                         </h1>\n",
              " <p class=\"lead\">\n",
              "                             The internet's best resource for learning <strong>web scraping</strong>.\n",
              "                         </p>\n",
              " <br/><br/><br/>\n",
              " <a class=\"btn btn-lg btn-default\" href=\"/pages/\"></a>Explore Sandbox\n",
              " <a class=\"btn btn-lg btn-primary\" href=\"/lessons/\"></a>\n",
              " <i class=\"glyphicon glyphicon-education\"></i>\n",
              "                             Begin Lessons →\n",
              "                         \n",
              " </img></div>,\n",
              " <div class=\"container\">\n",
              " <div class=\"row\">\n",
              " <div class=\"col-md-12 text-center text-muted\">\n",
              "                     Lessons and Videos © Hartley Brody 2023\n",
              "                 </div><!--.col-->\n",
              " </div><!--.row-->\n",
              " </div>,\n",
              " <div class=\"row\">\n",
              " <div class=\"col-md-12 text-center text-muted\">\n",
              "                     Lessons and Videos © Hartley Brody 2023\n",
              "                 </div><!--.col-->\n",
              " </div>,\n",
              " <div class=\"col-md-12 text-center text-muted\">\n",
              "                     Lessons and Videos © Hartley Brody 2023\n",
              "                 </div>,\n",
              " <div style=\"display:inline;\">\n",
              " <img alt=\"\" height=\"1\" src=\"//googleads.g.doubleclick.net/pagead/viewthroughconversion/950945448/?guid=ON&amp;script=0\" style=\"border-style:none;\" width=\"1\"/>\n",
              " </div>]"
            ]
          },
          "metadata": {},
          "execution_count": 13
        }
      ]
    },
    {
      "cell_type": "code",
      "source": [
        "soup.find_all(\"div\", class_=\"col-md-12\")"
      ],
      "metadata": {
        "colab": {
          "base_uri": "https://localhost:8080/"
        },
        "id": "MfvLr8ZqkJl2",
        "outputId": "3edf8f92-3e71-4e01-e91b-cfae8c8a9944"
      },
      "execution_count": 16,
      "outputs": [
        {
          "output_type": "execute_result",
          "data": {
            "text/plain": [
              "[<div class=\"col-md-12\">\n",
              " <ul class=\"nav nav-tabs\">\n",
              " <li id=\"nav-homepage\">\n",
              " <a class=\"nav-link hidden-sm hidden-xs\" href=\"/\">\n",
              " <img id=\"nav-logo\" src=\"/static/images/scraper-icon.png\"/>\n",
              "                                 Scrape This Site\n",
              "                             </a>\n",
              " </li>\n",
              " <li id=\"nav-sandbox\">\n",
              " <a class=\"nav-link\" href=\"/pages/\">\n",
              " <i class=\"glyphicon glyphicon-console hidden-sm hidden-xs\"></i>\n",
              "                                 Sandbox\n",
              "                             </a>\n",
              " </li>\n",
              " <li id=\"nav-lessons\">\n",
              " <a class=\"nav-link\" href=\"/lessons/\">\n",
              " <i class=\"glyphicon glyphicon-education hidden-sm hidden-xs\"></i>\n",
              "                                 Lessons\n",
              "                             </a>\n",
              " </li>\n",
              " <li id=\"nav-faq\">\n",
              " <a class=\"nav-link\" href=\"/faq/\">\n",
              " <i class=\"glyphicon glyphicon-flag hidden-sm hidden-xs\"></i>\n",
              "                                 FAQ\n",
              "                             </a>\n",
              " </li>\n",
              " <li class=\"pull-right\" id=\"nav-login\">\n",
              " <a class=\"nav-link\" href=\"/login/\">\n",
              "                                 Login\n",
              "                             </a>\n",
              " </li>\n",
              " </ul>\n",
              " </div>,\n",
              " <div class=\"col-md-12 text-center\">\n",
              " <img id=\"townhall-logo\" src=\"/static/images/scraper-icon.png\">\n",
              " <h1>\n",
              "                             Scrape This Site\n",
              "                         </h1>\n",
              " <p class=\"lead\">\n",
              "                             The internet's best resource for learning <strong>web scraping</strong>.\n",
              "                         </p>\n",
              " <br/><br/><br/>\n",
              " <a class=\"btn btn-lg btn-default\" href=\"/pages/\"></a>Explore Sandbox\n",
              " <a class=\"btn btn-lg btn-primary\" href=\"/lessons/\"></a>\n",
              " <i class=\"glyphicon glyphicon-education\"></i>\n",
              "                             Begin Lessons →\n",
              "                         \n",
              " </img></div>,\n",
              " <div class=\"col-md-12 text-center text-muted\">\n",
              "                     Lessons and Videos © Hartley Brody 2023\n",
              "                 </div>]"
            ]
          },
          "metadata": {},
          "execution_count": 16
        }
      ]
    },
    {
      "cell_type": "code",
      "source": [
        "soup.find_all(\"li\", class_=\"pull-right\")"
      ],
      "metadata": {
        "colab": {
          "base_uri": "https://localhost:8080/"
        },
        "id": "w2orlULumO4t",
        "outputId": "8dd0d428-1d13-4c35-dd3e-5b43afa7fb41"
      },
      "execution_count": 18,
      "outputs": [
        {
          "output_type": "execute_result",
          "data": {
            "text/plain": [
              "[<li class=\"pull-right\" id=\"nav-login\">\n",
              " <a class=\"nav-link\" href=\"/login/\">\n",
              "                                 Login\n",
              "                             </a>\n",
              " </li>]"
            ]
          },
          "metadata": {},
          "execution_count": 18
        }
      ]
    },
    {
      "cell_type": "code",
      "source": [
        "soup.find_all(\"p\", class_ = \"lead\").text\n",
        "# this will give an error because find_all() dosent have a text attribute"
      ],
      "metadata": {
        "colab": {
          "base_uri": "https://localhost:8080/",
          "height": 315
        },
        "id": "9iVnpM0unq5R",
        "outputId": "4da7fb7c-7d67-4adb-dfe3-aa4aa424cdbc"
      },
      "execution_count": 22,
      "outputs": [
        {
          "output_type": "error",
          "ename": "AttributeError",
          "evalue": "ResultSet object has no attribute \"text\". You're probably treating a list of elements like a single element. Did you call find_all() when you meant to call find()?",
          "traceback": [
            "\u001b[0;31m---------------------------------------------------------------------------\u001b[0m",
            "\u001b[0;31mAttributeError\u001b[0m                            Traceback (most recent call last)",
            "\u001b[0;32m/tmp/ipython-input-4001010626.py\u001b[0m in \u001b[0;36m<cell line: 0>\u001b[0;34m()\u001b[0m\n\u001b[0;32m----> 1\u001b[0;31m \u001b[0msoup\u001b[0m\u001b[0;34m.\u001b[0m\u001b[0mfind_all\u001b[0m\u001b[0;34m(\u001b[0m\u001b[0;34m\"p\"\u001b[0m\u001b[0;34m,\u001b[0m \u001b[0mclass_\u001b[0m \u001b[0;34m=\u001b[0m \u001b[0;34m\"lead\"\u001b[0m\u001b[0;34m)\u001b[0m\u001b[0;34m.\u001b[0m\u001b[0mtext\u001b[0m\u001b[0;34m\u001b[0m\u001b[0;34m\u001b[0m\u001b[0m\n\u001b[0m\u001b[1;32m      2\u001b[0m \u001b[0;31m# this will give an error because find_all() dosent have a text attribute\u001b[0m\u001b[0;34m\u001b[0m\u001b[0;34m\u001b[0m\u001b[0m\n",
            "\u001b[0;32m/usr/local/lib/python3.12/dist-packages/bs4/element.py\u001b[0m in \u001b[0;36m__getattr__\u001b[0;34m(self, key)\u001b[0m\n\u001b[1;32m   2883\u001b[0m     \u001b[0;32mdef\u001b[0m \u001b[0m__getattr__\u001b[0m\u001b[0;34m(\u001b[0m\u001b[0mself\u001b[0m\u001b[0;34m,\u001b[0m \u001b[0mkey\u001b[0m\u001b[0;34m:\u001b[0m \u001b[0mstr\u001b[0m\u001b[0;34m)\u001b[0m \u001b[0;34m->\u001b[0m \u001b[0;32mNone\u001b[0m\u001b[0;34m:\u001b[0m\u001b[0;34m\u001b[0m\u001b[0;34m\u001b[0m\u001b[0m\n\u001b[1;32m   2884\u001b[0m         \u001b[0;34m\"\"\"Raise a helpful exception to explain a common code fix.\"\"\"\u001b[0m\u001b[0;34m\u001b[0m\u001b[0;34m\u001b[0m\u001b[0m\n\u001b[0;32m-> 2885\u001b[0;31m         raise AttributeError(\n\u001b[0m\u001b[1;32m   2886\u001b[0m             \u001b[0;34mf\"\"\"ResultSet object has no attribute \"{key}\". You're probably treating a list of elements like a single element. Did you call find_all() when you meant to call find()?\"\"\"\u001b[0m\u001b[0;34m\u001b[0m\u001b[0;34m\u001b[0m\u001b[0m\n\u001b[1;32m   2887\u001b[0m         )\n",
            "\u001b[0;31mAttributeError\u001b[0m: ResultSet object has no attribute \"text\". You're probably treating a list of elements like a single element. Did you call find_all() when you meant to call find()?"
          ]
        }
      ]
    },
    {
      "cell_type": "code",
      "source": [
        "soup.find(\"p\", class_ = \"lead\").text.strip()"
      ],
      "metadata": {
        "colab": {
          "base_uri": "https://localhost:8080/",
          "height": 35
        },
        "id": "1CVyBIkZmphn",
        "outputId": "f49ce8bd-c988-44a8-a954-4f226482636f"
      },
      "execution_count": 23,
      "outputs": [
        {
          "output_type": "execute_result",
          "data": {
            "text/plain": [
              "\"The internet's best resource for learning web scraping.\""
            ],
            "application/vnd.google.colaboratory.intrinsic+json": {
              "type": "string"
            }
          },
          "metadata": {},
          "execution_count": 23
        }
      ]
    },
    {
      "cell_type": "code",
      "source": [],
      "metadata": {
        "id": "jOATaxjMnmv0"
      },
      "execution_count": null,
      "outputs": []
    }
  ]
}