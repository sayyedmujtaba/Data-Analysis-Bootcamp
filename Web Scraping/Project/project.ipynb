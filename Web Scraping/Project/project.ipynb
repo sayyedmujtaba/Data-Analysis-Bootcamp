{
  "cells": [
    {
      "cell_type": "code",
      "execution_count": null,
      "metadata": {
        "id": "RaU731ehra7p"
      },
      "outputs": [],
      "source": [
        "from bs4 import BeautifulSoup\n",
        "import requests"
      ]
    },
    {
      "cell_type": "code",
      "execution_count": null,
      "metadata": {
        "id": "-ObH-Q3irqcw"
      },
      "outputs": [],
      "source": [
        "url = \"https://en.wikipedia.org/wiki/List_of_largest_companies_in_the_United_States_by_revenue\"\n",
        "\n",
        "headers = {\n",
        "    \"User-Agent\": \"Mujtaba/1.0 (smujtabah14709@gmail.com)\"\n",
        "}"
      ]
    },
    {
      "cell_type": "code",
      "execution_count": null,
      "metadata": {
        "id": "43-F2EVbqODd"
      },
      "outputs": [],
      "source": [
        "page = requests.get(url, headers=headers)\n",
        "soup = BeautifulSoup(page.text, \"html.parser\")"
      ]
    },
    {
      "cell_type": "code",
      "execution_count": null,
      "metadata": {
        "id": "T_fFmhzYtl1l"
      },
      "outputs": [],
      "source": [
        "# print(soup)"
      ]
    },
    {
      "cell_type": "code",
      "execution_count": null,
      "metadata": {
        "id": "cJl7Aa0RvGZf"
      },
      "outputs": [],
      "source": [
        "soup.find('table')\n",
        "soup"
      ]
    },
    {
      "cell_type": "code",
      "execution_count": null,
      "metadata": {
        "id": "C1ChZ4Liplxs"
      },
      "outputs": [],
      "source": [
        "soup.find_all('table')[1]"
      ]
    },
    {
      "cell_type": "code",
      "execution_count": null,
      "metadata": {
        "id": "dCFhiOBty-XC"
      },
      "outputs": [],
      "source": [
        "soup.find('table', class_ = 'wikitable sortable')"
      ]
    },
    {
      "cell_type": "code",
      "execution_count": null,
      "metadata": {
        "id": "Hbadfq_8zUWR"
      },
      "outputs": [],
      "source": [
        "table  = soup.find_all('table')[1]"
      ]
    },
    {
      "cell_type": "code",
      "execution_count": null,
      "metadata": {
        "id": "1zHQ8iulzYy-"
      },
      "outputs": [],
      "source": [
        "print(table)"
      ]
    },
    {
      "cell_type": "code",
      "execution_count": null,
      "metadata": {
        "id": "BYV9zEHTzn_X"
      },
      "outputs": [],
      "source": [
        "world_titles = table.find_all('th')\n",
        "world_titles"
      ]
    },
    {
      "cell_type": "code",
      "execution_count": null,
      "metadata": {
        "id": "X68AmOWv0IFm"
      },
      "outputs": [],
      "source": [
        "world_table_titles = [title.text.strip() for title in world_titles]\n",
        "\n",
        "print(world_table_titles)"
      ]
    },
    {
      "cell_type": "code",
      "execution_count": null,
      "metadata": {
        "id": "Ksh5JH2D0toD"
      },
      "outputs": [],
      "source": [
        "import pandas as pd"
      ]
    },
    {
      "cell_type": "code",
      "execution_count": null,
      "metadata": {
        "id": "kRbfKbt8052J"
      },
      "outputs": [],
      "source": [
        "df = pd.DataFrame(columns = world_table_titles)\n",
        "df"
      ]
    },
    {
      "cell_type": "code",
      "execution_count": null,
      "metadata": {
        "id": "yWNhQ7IC0-RI"
      },
      "outputs": [],
      "source": [
        "column_data = table.find_all('tr')"
      ]
    },
    {
      "cell_type": "code",
      "execution_count": null,
      "metadata": {
        "id": "AvWdUw6T1XhK"
      },
      "outputs": [],
      "source": [
        "for row in column_data[1:]:\n",
        "    row_data = row.find_all('td')\n",
        "    individual_row_data = [data.text.strip() for data in row_data]\n",
        "\n",
        "    length = len(df)\n",
        "    df.loc[length] = individual_row_data"
      ]
    },
    {
      "cell_type": "code",
      "execution_count": null,
      "metadata": {
        "colab": {
          "base_uri": "https://localhost:8080/",
          "height": 424
        },
        "id": "_Bk_1bO71gcQ",
        "outputId": "d30421a6-3d25-4cfe-babf-0d3e923c609a"
      },
      "outputs": [],
      "source": [
        "df"
      ]
    },
    {
      "cell_type": "code",
      "execution_count": null,
      "metadata": {
        "id": "lf__BQ3x1j6R"
      },
      "outputs": [],
      "source": [
        "df.to_csv(r\"E:\\Codes\\Data-Analysis-Bootcamp\\Web Scraping\\project.csv\", index = False)"
      ]
    },
    {
      "cell_type": "code",
      "execution_count": null,
      "metadata": {
        "id": "epJm1dxi12Mi"
      },
      "outputs": [],
      "source": []
    }
  ],
  "metadata": {
    "colab": {
      "provenance": []
    },
    "kernelspec": {
      "display_name": "Python 3",
      "name": "python3"
    },
    "language_info": {
      "codemirror_mode": {
        "name": "ipython",
        "version": 3
      },
      "file_extension": ".py",
      "mimetype": "text/x-python",
      "name": "python",
      "nbconvert_exporter": "python",
      "pygments_lexer": "ipython3",
      "version": "3.13.7"
    }
  },
  "nbformat": 4,
  "nbformat_minor": 0
}
